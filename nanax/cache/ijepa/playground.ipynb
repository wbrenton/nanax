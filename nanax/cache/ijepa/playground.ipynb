{
 "cells": [
  {
   "cell_type": "code",
   "execution_count": 14,
   "metadata": {},
   "outputs": [],
   "source": [
    "import numpy as np\n",
    "import matplotlib.pyplot as plt\n",
    "from datasets import load_dataset\n",
    "import matplotlib.colors as mcolors"
   ]
  },
  {
   "cell_type": "code",
   "execution_count": 50,
   "metadata": {},
   "outputs": [
    {
     "name": "stderr",
     "output_type": "stream",
     "text": [
      "Found cached dataset mnist (/Users/will/.cache/huggingface/datasets/mnist/mnist/1.0.0/9d494b7f466d6931c64fb39d58bb1249a4d85c9eb9865d9bc20960b999e2a332)\n",
      "100%|██████████| 2/2 [00:00<00:00, 541.72it/s]\n"
     ]
    },
    {
     "data": {
      "image/png": "[encoded data removed]",
      "text/plain": [
       "<Figure size 640x480 with 1 Axes>"
      ]
     },
     "metadata": {},
     "output_type": "display_data"
    }
   ],
   "source": [
    "# Load MNIST dataset\n",
    "mnist = load_dataset(\"mnist\")\n",
    "\n",
    "# Get the first example\n",
    "example = mnist[\"train\"][0]\n",
    "\n",
    "# Extract image and label\n",
    "image = example[\"image\"]\n",
    "label = example[\"label\"]\n",
    "\n",
    "# Reshape image to 2D array (28x28 pixels)\n",
    "image = np.array(image)[:, :, None]\n",
    "image = image.repeat(3, axis=-1).astype(np.float32)\n",
    "image[:,:,0] *= 0.0\n",
    "image[:,:,1] *= 0.015\n",
    "image[:,:,2] *= 0.015\n",
    "# image[:,:,0] *= 0.015\n",
    "# image[:,:,1] *= 0.0\n",
    "# image[:,:,2] *= 0.015\n",
    "\n",
    "# Plot the image\n",
    "plt.imshow(image)\n",
    "plt.title(f\"Label: {label}\")\n",
    "plt.axis(\"off\")\n",
    "plt.show()"
   ]
  },
  {
   "cell_type": "code",
   "execution_count": null,
   "metadata": {},
   "outputs": [],
   "source": []
  }
 ],
 "metadata": {
  "kernelspec": {
   "display_name": "venv",
   "language": "python",
   "name": "python3"
  },
  "language_info": {
   "codemirror_mode": {
    "name": "ipython",
    "version": 3
   },
   "file_extension": ".py",
   "mimetype": "text/x-python",
   "name": "python",
   "nbconvert_exporter": "python",
   "pygments_lexer": "ipython3",
   "version": "3.8.8"
  },
  "orig_nbformat": 4
 },
 "nbformat": 4,
 "nbformat_minor": 2
}
