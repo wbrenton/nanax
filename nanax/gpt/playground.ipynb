{
 "cells": [
  {
   "cell_type": "code",
   "execution_count": 43,
   "metadata": {},
   "outputs": [],
   "source": [
    "import jax\n",
    "import orbax\n",
    "import jax.numpy as jnp\n",
    "\n",
    "from model import GPT\n",
    "from train import load_hf_dataset\n",
    "from train import Args"
   ]
  },
  {
   "cell_type": "code",
   "execution_count": 44,
   "metadata": {},
   "outputs": [],
   "source": [
    "args = Args()\n",
    "rng = jax.random.PRNGKey(0)\n",
    "\n",
    "# load model\n",
    "orbax_checkpointer = orbax.checkpoint.PyTreeCheckpointer()\n",
    "ckpt = orbax_checkpointer.restore('/Users/will/Home/ML/Projects/nanax/models')\n",
    "state = ckpt[\"gpt_model\"]\n",
    "\n",
    "# load model (and dataset related hps)\n",
    "_, _, vocab_size, encode, decode = load_hf_dataset(Args)\n",
    "args.gpt2_hparams.vocab_size = vocab_size\n",
    "gpt = GPT(args.gpt2_hparams)\n"
   ]
  },
  {
   "cell_type": "code",
   "execution_count": 50,
   "metadata": {},
   "outputs": [
    {
     "data": {
      "text/plain": [
       "'the\\nna\\nnthtr rowertns  e  t e y tt to\\nty toe na   h  an toaorony n neeeh ntee ir   o\\n  eenth  n rhnressoha n aea eeoen  e \\no s o n\\n  e heainoahi\\nte nntathee t\\na  ioo eea tne ne  \\neo\\no nat\\n eee asehs eio o o ih ert  se\\n oaaoaerea e o t tni  r e t  \\n s  h      os  sh\\nan  eeohe eoa t oso\\n\\n\\no\\nh ne  o oe ne ente\\nyt o th \\ne on  ae  a  e ana\\nnt\\naah e este s    ne  nthn ntno\\neni  sae  nno e esse nbaooo  h  thhott       oone nioe\\nhn  eea esn ta hh\\n  ss    e\\ne    ehhn\\n\\n   htatetti  nt artn\\n\\na t h oi s satnne'"
      ]
     },
     "execution_count": 50,
     "metadata": {},
     "output_type": "execute_result"
    }
   ],
   "source": [
    "input = \"the\"\n",
    "input_tokens = jnp.array(encode(input), dtype=jnp.int32)[None]\n",
    "\n",
    "output_tokens = gpt.generate(rng, state['params'], input_tokens, max_new_tokens=500, temperature=0.8, top_k=10)[0]\n",
    "output = decode(output_tokens.tolist())\n",
    "output"
   ]
  },
  {
   "cell_type": "code",
   "execution_count": null,
   "metadata": {},
   "outputs": [],
   "source": []
  }
 ],
 "metadata": {
  "kernelspec": {
   "display_name": "venv",
   "language": "python",
   "name": "python3"
  },
  "language_info": {
   "codemirror_mode": {
    "name": "ipython",
    "version": 3
   },
   "file_extension": ".py",
   "mimetype": "text/x-python",
   "name": "python",
   "nbconvert_exporter": "python",
   "pygments_lexer": "ipython3",
   "version": "3.10.12"
  },
  "orig_nbformat": 4
 },
 "nbformat": 4,
 "nbformat_minor": 2
}
