{
 "cells": [
  {
   "cell_type": "code",
   "execution_count": 6,
   "metadata": {},
   "outputs": [],
   "source": [
    "import jax\n",
    "import orbax\n",
    "import tiktoken\n",
    "import jax.numpy as jnp\n",
    "\n",
    "from model import GPT\n",
    "from train import load_hf_dataset\n",
    "from train import Args"
   ]
  },
  {
   "cell_type": "code",
   "execution_count": 9,
   "metadata": {},
   "outputs": [],
   "source": [
    "args = Args()\n",
    "rng = jax.random.PRNGKey(0)\n",
    "\n",
    "# load model\n",
    "orbax_checkpointer = orbax.checkpoint.PyTreeCheckpointer()\n",
    "ckpt = orbax_checkpointer.restore('/home/ubuntu/nanax/models/-train__1__1695876246')\n",
    "state = ckpt[\"gpt_model\"]\n",
    "\n",
    "# load model (and dataset related hps)\n",
    "# _, _, vocab_size, encode, decode = load_hf_dataset(Args)\n",
    "enc = tiktoken.get_encoding(\"gpt2\")\n",
    "vocab_size = enc.max_token_value\n",
    "args.gpt2_hparams.vocab_size = vocab_size\n",
    "gpt = GPT(args.gpt2_hparams)\n"
   ]
  },
  {
   "cell_type": "code",
   "execution_count": 14,
   "metadata": {},
   "outputs": [
    {
     "name": "stdout",
     "output_type": "stream",
     "text": [
      "the0&,!@#_\"�\"�#g1\"\"d$j\"'\"\u0011#�#.!\n",
      "!\n",
      "!\u0003\"�!)'\u0003\"�!s!l#\"\"�%?\"\"\"�%.!�#\u0003\"�!s!:%,!U#�!#%\u0003\"�!s!�F.!\u0003\"�!\u0003\"�!\u0003\"�!�#\u0010\"\u0003\"�!t!\u0016%g\"'\"d$g\"t\"\u0003\"�!s!�$=\"T\".!U#�!\u0000%_\"\u0003*�,=\"\u0017\"j\"u\",!C\"�\"\u0003\"�!%\"�\"�$@\"'\"�$.![\"\u0003\"�!J\"m#g\",![\"\u0003\"�!P\"l#�$=\"�$g\"'\"d$?\"\"\"d$g\"R#T\",!\u0003\"�!t\"4#.!\n",
      "!\n",
      "!\u0003\"�!�,\u0003\"�!%\"�$=\"�\"=\"T\"\u0011$=\"T\"'\"\u0011#�#.!\u0003\"�!\n",
      "!\n",
      "!\u0003\"�!I!\u0003\"�!m!�$=\"T\"'\"�%\u001f%g\"[\"\u0003\"�!m!�#\"\"�$d$=\"\u0016\"'\"\u001f)g\"_\"'\"�&.!\u0003\"�!\n",
      "!\n",
      "!\u0003\"�!I!\u0003\"�!m!�(=\"�#\"\"d$?\"'\"\u001b$,!\u0003\"�!�#4#.!U#�!�,\u0003\"�!%\"�\"�$=\"T\"@\"'\"\u0011#|0.!\u0003\"�!\n",
      "!\n",
      "!\u0014\"�%-$u\"_\"\"\"n$�$�#,!\u0003\"�!t\"�#0(,!U#�!I!\u0003\"�!m!�#\"\":%\u001b$,!\u0003\"�!t\"4#.!U#�!\n"
     ]
    }
   ],
   "source": [
    "input = \"the\"\n",
    "input_tokens = jnp.array(enc.encode(input), dtype=jnp.int32)[None]\n",
    "\n",
    "output_tokens = gpt.generate(rng, state['params'], input_tokens, max_new_tokens=500, temperature=1., top_k=10)[0]\n",
    "output = enc.decode(output_tokens.tolist())\n",
    "print(output)"
   ]
  },
  {
   "cell_type": "code",
   "execution_count": null,
   "metadata": {},
   "outputs": [],
   "source": []
  }
 ],
 "metadata": {
  "kernelspec": {
   "display_name": "venv",
   "language": "python",
   "name": "python3"
  },
  "language_info": {
   "codemirror_mode": {
    "name": "ipython",
    "version": 3
   },
   "file_extension": ".py",
   "mimetype": "text/x-python",
   "name": "python",
   "nbconvert_exporter": "python",
   "pygments_lexer": "ipython3",
   "version": "3.8.10"
  },
  "orig_nbformat": 4
 },
 "nbformat": 4,
 "nbformat_minor": 2
}
